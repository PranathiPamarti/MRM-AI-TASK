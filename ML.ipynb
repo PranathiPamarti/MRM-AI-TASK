{
 "cells": [
  {
   "cell_type": "code",
   "execution_count": 1,
   "id": "12ff0e42-184e-483a-b436-c61558a4ddee",
   "metadata": {},
   "outputs": [],
   "source": [
    "import pandas as pd\n",
    "import numpy as np\n",
    "import matplotlib.pyplot as plt\n"
   ]
  },
  {
   "cell_type": "code",
   "execution_count": 9,
   "id": "24da071c-1a67-4c80-90d1-95c4f1f1c8e8",
   "metadata": {},
   "outputs": [
    {
     "name": "stdout",
     "output_type": "stream",
     "text": [
      "   car_ID  symboling                   CarName fueltype aspiration doornumber  \\\n",
      "0       1          3        alfa-romero giulia      gas        std        two   \n",
      "1       2          3       alfa-romero stelvio      gas        std        two   \n",
      "2       3          1  alfa-romero Quadrifoglio      gas        std        two   \n",
      "3       4          2               audi 100 ls      gas        std       four   \n",
      "4       5          2                audi 100ls      gas        std       four   \n",
      "\n",
      "       carbody drivewheel enginelocation  wheelbase  ...  enginesize  \\\n",
      "0  convertible        rwd          front       88.6  ...         130   \n",
      "1  convertible        rwd          front       88.6  ...         130   \n",
      "2    hatchback        rwd          front       94.5  ...         152   \n",
      "3        sedan        fwd          front       99.8  ...         109   \n",
      "4        sedan        4wd          front       99.4  ...         136   \n",
      "\n",
      "   fuelsystem  boreratio  stroke compressionratio horsepower  peakrpm citympg  \\\n",
      "0        mpfi       3.47    2.68              9.0        111     5000      21   \n",
      "1        mpfi       3.47    2.68              9.0        111     5000      21   \n",
      "2        mpfi       2.68    3.47              9.0        154     5000      19   \n",
      "3        mpfi       3.19    3.40             10.0        102     5500      24   \n",
      "4        mpfi       3.19    3.40              8.0        115     5500      18   \n",
      "\n",
      "   highwaympg    price  \n",
      "0          27  13495.0  \n",
      "1          27  16500.0  \n",
      "2          26  16500.0  \n",
      "3          30  13950.0  \n",
      "4          22  17450.0  \n",
      "\n",
      "[5 rows x 26 columns]\n"
     ]
    }
   ],
   "source": [
    "# Specify the path to your Microsoft CSV file\n",
    "file_path = r'C:\\Users\\pamar_1wl3que\\Desktop\\CarPrice_Assignment.csv'\n",
    "\n",
    "\n",
    "# Read the CSV file\n",
    "# Use appropriate encoding and delimiter if necessary\n",
    "df = pd.read_csv(file_path, encoding='ISO-8859-1', sep=',')  # Adjust 'sep' if needed\n",
    "\n",
    "# Display the first few rows\n",
    "print(df.head())"
   ]
  },
  {
   "cell_type": "code",
   "execution_count": 12,
   "id": "451e145f-4640-4456-b0cc-b1625dcfe647",
   "metadata": {},
   "outputs": [
    {
     "name": "stdout",
     "output_type": "stream",
     "text": [
      "Predicted prices for test data:\n",
      "[ 7105.12989215 -5362.71441714 -6144.92595279 -2875.315697\n",
      " 11660.3417347  -4978.54751492 -2714.11513118  9912.40170311\n",
      " -3918.20234805  7826.86251258 -3899.53489451  6963.3895359\n",
      "  8080.65946032  6453.32991786 16664.81480554 16740.98763032\n",
      "  3126.64942742  1444.89764028 -8583.67690008 -8446.76214215\n",
      " -7890.17715407 -7753.26239614 -7665.04047434 -6787.28340106\n",
      " -7124.53721319 -9148.25079279 -9188.32465441 -1049.79128461\n",
      " -5476.69595743 -7823.07927549 -2460.8788422  -3693.47079632\n",
      " -2559.33915298 -3771.10841756  -348.29612918 -1549.71887381\n",
      " -1670.44152296   714.40314114  5149.47424853  2313.98631657\n",
      "  -645.4329217 ]\n",
      "Mean Squared Error on test set: 236442589.88645554\n"
     ]
    },
    {
     "data": {
      "image/png": "[encoded data removed]",
      "text/plain": [
       "<Figure size 640x480 with 1 Axes>"
      ]
     },
     "metadata": {},
     "output_type": "display_data"
    }
   ],
   "source": [
    "# Step 2: Data Preprocessing\n",
    "# Drop rows with missing values (if any)\n",
    "df = df.dropna()\n",
    "\n",
    "# Convert categorical variables to numeric (if necessary)\n",
    "# This assumes there are categorical variables that need encoding\n",
    "df = pd.get_dummies(df, drop_first=True)\n",
    "\n",
    "# Normalize the features (optional but helps with faster convergence)\n",
    "# Here we're normalizing by subtracting the mean and dividing by the standard deviation\n",
    "df_features = df.drop('price', axis=1)  # Drop target column\n",
    "df_features = (df_features - df_features.mean()) / df_features.std()\n",
    "\n",
    "# Assign features to X and the target variable (price) to y\n",
    "X = df_features.values\n",
    "y = df['price'].values\n",
    "\n",
    "# Step 3: Train-Test Split\n",
    "# Splitting the dataset into 80% training and 20% testing\n",
    "train_size = int(0.8 * len(df))\n",
    "X_train, X_test = X[:train_size], X[train_size:]\n",
    "y_train, y_test = y[:train_size], y[train_size:]\n",
    "\n",
    "# Step 4: Implement Linear Regression from Scratch\n",
    "class LinearRegression:\n",
    "    def __init__(self, learning_rate=0.01, iterations=1000):\n",
    "        self.learning_rate = learning_rate\n",
    "        self.iterations = iterations\n",
    "        self.theta = None  # Parameters for the model\n",
    "    \n",
    "    def fit(self, X, y):\n",
    "        # Add bias (intercept term) to X\n",
    "        X = np.insert(X, 0, 1, axis=1)  # Add a column of 1s to account for the bias term\n",
    "        self.theta = np.zeros(X.shape[1])  # Initialize theta (parameters) with zeros\n",
    "        m = len(y)  # Number of training examples\n",
    "        \n",
    "        # Gradient Descent Algorithm\n",
    "        for _ in range(self.iterations):\n",
    "            y_pred = X.dot(self.theta)  # Prediction using current parameters\n",
    "            error = y_pred - y  # Calculate the error\n",
    "            gradient = (1/m) * X.T.dot(error)  # Compute the gradient\n",
    "            self.theta -= self.learning_rate * gradient  # Update the parameters\n",
    "    \n",
    "    def predict(self, X):\n",
    "        X = np.insert(X, 0, 1, axis=1)  # Add the bias term for prediction\n",
    "        return X.dot(self.theta)\n",
    "\n",
    "# Step 5: Train the Model\n",
    "model = LinearRegression(learning_rate=0.01, iterations=1000)\n",
    "model.fit(X_train, y_train)\n",
    "\n",
    "# Step 6: Predict on Test Data\n",
    "y_pred = model.predict(X_test) \n",
    "# Print predicted prices\n",
    "print(\"Predicted prices for test data:\")\n",
    "print(y_pred)\n",
    "\n",
    "\n",
    "# Step 7: Evaluate the Model (Mean Squared Error)\n",
    "mse = np.mean((y_pred - y_test) ** 2)\n",
    "print(f'Mean Squared Error on test set: {mse}')\n",
    "\n",
    "# Step 8: Visualize Predictions vs Actual Values\n",
    "plt.scatter(y_test, y_pred)\n",
    "plt.xlabel('Actual Prices')\n",
    "plt.ylabel('Predicted Prices')\n",
    "plt.title('Actual vs Predicted Car Prices')\n",
    "plt.show()"
   ]
  },
  {
   "cell_type": "code",
   "execution_count": null,
   "id": "1e427352-e0c5-4333-a253-62ab44d95af2",
   "metadata": {},
   "outputs": [],
   "source": []
  },
  {
   "cell_type": "code",
   "execution_count": null,
   "id": "023d35a6-d5d0-4416-a37a-75df4649aa8e",
   "metadata": {},
   "outputs": [],
   "source": []
  }
 ],
 "metadata": {
  "kernelspec": {
   "display_name": "Python 3 (ipykernel)",
   "language": "python",
   "name": "python3"
  },
  "language_info": {
   "codemirror_mode": {
    "name": "ipython",
    "version": 3
   },
   "file_extension": ".py",
   "mimetype": "text/x-python",
   "name": "python",
   "nbconvert_exporter": "python",
   "pygments_lexer": "ipython3",
   "version": "3.10.10"
  }
 },
 "nbformat": 4,
 "nbformat_minor": 5
}
